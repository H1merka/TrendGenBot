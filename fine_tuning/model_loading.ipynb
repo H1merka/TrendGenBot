{
  "nbformat": 4,
  "nbformat_minor": 0,
  "metadata": {
    "colab": {
      "provenance": []
    },
    "kernelspec": {
      "name": "python3",
      "display_name": "Python 3"
    },
    "language_info": {
      "name": "python"
    }
  },
  "cells": [
    {
      "cell_type": "markdown",
      "source": [
        "### Installing requirements"
      ],
      "metadata": {
        "id": "EooimddHXoKy"
      }
    },
    {
      "cell_type": "code",
      "source": [
        "!pip install -q --upgrade torch transformers bitsandbytes accelerate"
      ],
      "metadata": {
        "id": "ckeKd5dfX4wN"
      },
      "execution_count": null,
      "outputs": []
    },
    {
      "cell_type": "markdown",
      "source": [
        "### Model 16-bit loading"
      ],
      "metadata": {
        "id": "94-7EddEX5B4"
      }
    },
    {
      "cell_type": "code",
      "source": [
        "from transformers import AutoModelForCausalLM, AutoTokenizer\n",
        "import torch"
      ],
      "metadata": {
        "id": "oOHbuHmpxH7J"
      },
      "execution_count": null,
      "outputs": []
    },
    {
      "cell_type": "code",
      "source": [
        "model_name = \"OpenGVLab/InternVL2_5-4B\""
      ],
      "metadata": {
        "id": "C9CbBQFrxIJJ"
      },
      "execution_count": null,
      "outputs": []
    },
    {
      "cell_type": "code",
      "source": [
        "tokenizer = AutoTokenizer.from_pretrained(model_name, trust_remote_code=True)\n",
        "\n",
        "model = AutoModelForCausalLM.from_pretrained(\n",
        "    model_name,\n",
        "    device_map=\"auto\",\n",
        "    torch_dtype=torch.bfloat16,\n",
        "    low_cpu_mem_usage=True,\n",
        "    trust_remote_code=True\n",
        ")\n",
        "model.eval()"
      ],
      "metadata": {
        "id": "RSxqfd8GTpUn"
      },
      "execution_count": null,
      "outputs": []
    },
    {
      "cell_type": "markdown",
      "source": [
        "### BNB 4-bit Quantization\n"
      ],
      "metadata": {
        "id": "ATxSfu9GYJd9"
      }
    },
    {
      "cell_type": "code",
      "source": [
        "from transformers import AutoModelForCausalLM, AutoTokenizer\n",
        "import torch"
      ],
      "metadata": {
        "id": "0M5Qx2vGxNph"
      },
      "execution_count": null,
      "outputs": []
    },
    {
      "cell_type": "code",
      "source": [
        "model_name = \"OpenGVLab/InternVL2_5-4B\""
      ],
      "metadata": {
        "id": "WMcWa8JdxOXw"
      },
      "execution_count": null,
      "outputs": []
    },
    {
      "cell_type": "code",
      "source": [
        "tokenizer = AutoTokenizer.from_pretrained(model_name, trust_remote_code=True)\n",
        "\n",
        "model = AutoModelForCausalLM.from_pretrained(\n",
        "    model_name,\n",
        "    device_map=\"auto\",\n",
        "    torch_dtype=torch.bfloat16,\n",
        "    low_cpu_mem_usage=True,\n",
        "    load_in_4bit=True,\n",
        "    trust_remote_code=True\n",
        ")\n",
        "model.eval()"
      ],
      "metadata": {
        "id": "8zhtKJb8V-Fe"
      },
      "execution_count": null,
      "outputs": []
    }
  ]
}